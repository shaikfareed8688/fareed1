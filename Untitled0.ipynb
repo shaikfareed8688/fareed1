{
  "nbformat": 4,
  "nbformat_minor": 0,
  "metadata": {
    "colab": {
      "provenance": [],
      "toc_visible": true
    },
    "kernelspec": {
      "name": "python3",
      "display_name": "Python 3"
    },
    "language_info": {
      "name": "python"
    }
  },
  "cells": [
    {
      "cell_type": "code",
      "execution_count": 1,
      "metadata": {
        "colab": {
          "base_uri": "https://localhost:8080/"
        },
        "id": "Mz5WH03ipbjy",
        "outputId": "319e77e8-a230-4cfc-f7c6-54307f8bb3d2"
      },
      "outputs": [
        {
          "output_type": "stream",
          "name": "stdout",
          "text": [
            "{0: 'a', 1: 'b', 2: 'c', 3: 'd', 4: 'e'}\n"
          ]
        }
      ],
      "source": [
        "A =  ['a', 'b', 'c', 'd', 'e']\n",
        "fun = enumerate(A, 0)\n",
        "output_dict = dict(fun)\n",
        "print(output_dict)"
      ]
    }
  ]
}